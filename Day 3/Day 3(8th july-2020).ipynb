{
 "cells": [
  {
   "cell_type": "raw",
   "metadata": {},
   "source": [
    "Question 1 :\n",
    "Write a program to subtract two complex numbers in Python."
   ]
  },
  {
   "cell_type": "code",
   "execution_count": 2,
   "metadata": {},
   "outputs": [
    {
     "name": "stdout",
     "output_type": "stream",
     "text": [
      "Subtraction :  (2+1j)\n"
     ]
    }
   ],
   "source": [
    "a1 = 4+3j\n",
    "a2 = 2+2j\n",
    "\n",
    "a3 = a1 - a2\n",
    "print(\"Subtraction : \",a3)"
   ]
  },
  {
   "cell_type": "raw",
   "metadata": {},
   "source": [
    "Question 2 :\n",
    "Write a program to find the fourth root of a number."
   ]
  },
  {
   "cell_type": "code",
   "execution_count": 4,
   "metadata": {},
   "outputs": [
    {
     "name": "stdout",
     "output_type": "stream",
     "text": [
      "Fourth root is :  2.0\n"
     ]
    }
   ],
   "source": [
    "a = 16\n",
    "root = a ** (1/4)\n",
    "print(\"Fourth root is : \",root)"
   ]
  },
  {
   "cell_type": "raw",
   "metadata": {},
   "source": [
    "Question 3:\n",
    "Write a program to swap two numbers in Python with the help of a temporary variable."
   ]
  },
  {
   "cell_type": "code",
   "execution_count": 5,
   "metadata": {},
   "outputs": [
    {
     "name": "stdout",
     "output_type": "stream",
     "text": [
      "before swapping\n",
      "no1 :  5\n",
      "no2 :  3\n",
      "after swapping\n",
      "no1 :  3\n",
      "no2 :  5\n"
     ]
    }
   ],
   "source": [
    "no1 = 5\n",
    "no2 = 3\n",
    "print(\"before swapping\")\n",
    "print(\"no1 : \",no1)\n",
    "print(\"no2 : \",no2)\n",
    "temp = no1\n",
    "no1 = no2\n",
    "no2 = temp\n",
    "print(\"after swapping\")\n",
    "print(\"no1 : \",no1)\n",
    "print(\"no2 : \",no2)"
   ]
  },
  {
   "cell_type": "raw",
   "metadata": {},
   "source": [
    "Question 4:\n",
    "Write a program to swap two numbers in Python without using a temporary variable"
   ]
  },
  {
   "cell_type": "code",
   "execution_count": 6,
   "metadata": {},
   "outputs": [
    {
     "name": "stdout",
     "output_type": "stream",
     "text": [
      "before swapping\n",
      "no1 :  5\n",
      "no2 :  3\n",
      "after swapping\n",
      "no1 :  3\n",
      "no2 :  5\n"
     ]
    }
   ],
   "source": [
    "no_1 = 5\n",
    "no_2 = 3\n",
    "print(\"before swapping\")\n",
    "print(\"no1 : \",no_1)\n",
    "print(\"no2 : \",no_2)\n",
    "no_1 = no_1 + no_2\n",
    "no_2 = no_1 - no_2\n",
    "no_1 = no_1 -no_2\n",
    "print(\"after swapping\")\n",
    "print(\"no1 : \",no_1)\n",
    "print(\"no2 : \",no_2)"
   ]
  },
  {
   "cell_type": "raw",
   "metadata": {},
   "source": [
    "Question 5:\n",
    "Write a program to convert fahrenheit to kelvin and celsius both."
   ]
  },
  {
   "cell_type": "code",
   "execution_count": 10,
   "metadata": {},
   "outputs": [
    {
     "name": "stdout",
     "output_type": "stream",
     "text": [
      "Temperature in Kelvin :  274.81666666666666\n",
      "Temperature in Celcius :  1.6666666666666667\n"
     ]
    }
   ],
   "source": [
    "temp_feren = 35\n",
    "\n",
    "temp_kel = (temp_feren - 32) * (5/9) + 273.15\n",
    "print(\"Temperature in Kelvin : \",temp_kel)\n",
    "\n",
    "temp_cel = (temp_feren - 32) * 5/9\n",
    "print(\"Temperature in Celcius : \",temp_cel)"
   ]
  },
  {
   "cell_type": "raw",
   "metadata": {},
   "source": [
    "Question 6:\n",
    "Write a program to demonstrate all the available data types in Python. Hint: Use type() function.\n"
   ]
  },
  {
   "cell_type": "code",
   "execution_count": 12,
   "metadata": {},
   "outputs": [
    {
     "name": "stdout",
     "output_type": "stream",
     "text": [
      "5 is of type <class 'int'>\n",
      "2.0 is of type <class 'float'>\n",
      "(1+2j) is of type <class 'complex'>\n"
     ]
    }
   ],
   "source": [
    "i = 5\n",
    "print(i, \"is of type\", type(i))\n",
    "\n",
    "i = 2.0\n",
    "print(i, \"is of type\", type(i))\n",
    "\n",
    "i = 1+2j\n",
    "print(i, \"is of type\", type(i))"
   ]
  },
  {
   "cell_type": "raw",
   "metadata": {},
   "source": [
    "Question 7:\n",
    "Create a Markdown cell in jupyter and list the steps discussed in the session by Dr. Darshan\n",
    "Ingle sir to create Github profile and upload Githubs Assignment link."
   ]
  },
  {
   "cell_type": "markdown",
   "metadata": {},
   "source": [
    "1. Create a github repo in your account naming \"LetsUpgrade AI-ML\"\n",
    "2. on your Local coumputer, create a folder\"Day3\" and inside that folder, create a jupyter notebook and solve all the questions given in the assignment.\n",
    "3. Push folder \"Day3\" in github repo \"LetsUpgrade AI-ML\"\n",
    "4. Copy the link and paste it in assignment submission form.\n",
    "5. Submit the form."
   ]
  }
 ],
 "metadata": {
  "kernelspec": {
   "display_name": "Python 3",
   "language": "python",
   "name": "python3"
  },
  "language_info": {
   "codemirror_mode": {
    "name": "ipython",
    "version": 3
   },
   "file_extension": ".py",
   "mimetype": "text/x-python",
   "name": "python",
   "nbconvert_exporter": "python",
   "pygments_lexer": "ipython3",
   "version": "3.8.3"
  }
 },
 "nbformat": 4,
 "nbformat_minor": 4
}
