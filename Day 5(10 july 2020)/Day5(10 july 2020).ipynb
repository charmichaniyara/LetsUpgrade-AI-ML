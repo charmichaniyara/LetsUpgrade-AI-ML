{
 "cells": [
  {
   "cell_type": "raw",
   "metadata": {},
   "source": [
    "Question 1 :\n",
    "Write a Python program to find the first 20 non-even prime natural numbers."
   ]
  },
  {
   "cell_type": "code",
   "execution_count": 2,
   "metadata": {},
   "outputs": [
    {
     "name": "stdout",
     "output_type": "stream",
     "text": [
      "How many primes to print?  20\n",
      "Prime # 1 is 3\n",
      "Prime # 2 is 5\n",
      "Prime # 3 is 7\n",
      "Prime # 4 is 11\n",
      "Prime # 5 is 13\n",
      "Prime # 6 is 17\n",
      "Prime # 7 is 19\n",
      "Prime # 8 is 23\n",
      "Prime # 9 is 29\n",
      "Prime # 10 is 31\n",
      "Prime # 11 is 37\n",
      "Prime # 12 is 41\n",
      "Prime # 13 is 43\n",
      "Prime # 14 is 47\n",
      "Prime # 15 is 53\n",
      "Prime # 16 is 59\n",
      "Prime # 17 is 61\n",
      "Prime # 18 is 67\n",
      "Prime # 19 is 71\n",
      "Prime # 20 is 73\n"
     ]
    }
   ],
   "source": [
    "numprimes = input('How many primes to print?  ')\n",
    "count = 0\n",
    "potentialprime = 2\n",
    "\n",
    "def primetest(potentialprime):\n",
    "    divisor = 2\n",
    "    while divisor <= potentialprime:\n",
    "        if potentialprime == 2:\n",
    "            return True\n",
    "        elif potentialprime % divisor == 0:\n",
    "            return False\n",
    "            break\n",
    "        while potentialprime % divisor != 0:\n",
    "            if potentialprime - divisor > 1:\n",
    "                divisor += 1\n",
    "            else:\n",
    "                return True\n",
    "\n",
    "while count <= int(numprimes):\n",
    "    if primetest(potentialprime) == True:\n",
    "        if potentialprime % 2 != 0:\n",
    "            print('Prime #' ,(count), 'is', potentialprime)\n",
    "                    \n",
    "        count += 1\n",
    "        potentialprime += 1\n",
    "    else:\n",
    "        potentialprime += 1"
   ]
  },
  {
   "cell_type": "raw",
   "metadata": {},
   "source": [
    "Question 2 :\n",
    "Write a Python program to implement 15 functions of string."
   ]
  },
  {
   "cell_type": "code",
   "execution_count": 3,
   "metadata": {},
   "outputs": [
    {
     "name": "stdout",
     "output_type": "stream",
     "text": [
      "String is:  Hello\n",
      "Length of string:  5\n",
      "Type of:  <class 'str'>\n",
      "Is string in uppercase?  False\n",
      "Is string in lowercase?  False\n",
      "Is string contains digits?  False\n",
      "Is string contain any white space?  False\n",
      "Is string contains alphabets?  True\n",
      "Uppercase string:  HELLO\n",
      "Lowercase string:  hello\n",
      "Joined string:  WHellooHellorHellolHellod\n",
      "No. of occurances of l : 2\n",
      "Replaced string:  Hezzo\n",
      "Title case:  Hello\n",
      "Z-fill :  00000Hello\n"
     ]
    }
   ],
   "source": [
    "str = \"Hello\"\n",
    "\n",
    "#1\n",
    "print(\"String is: \",str)\n",
    "\n",
    "#2\n",
    "print(\"Length of string: \",len(str))\n",
    "\n",
    "#3\n",
    "print(\"Type of: \",type(str))\n",
    "\n",
    "#4\n",
    "print(\"Is string in uppercase? \",str.isupper())\n",
    "\n",
    "#5\n",
    "print(\"Is string in lowercase? \",str.islower())\n",
    "\n",
    "#6\n",
    "print(\"Is string contains digits? \",str.isdigit())\n",
    "\n",
    "#7\n",
    "print(\"Is string contain any white space? \",str.isspace())\n",
    "\n",
    "#8\n",
    "print(\"Is string contains alphabets? \",str.isalpha())\n",
    "\n",
    "#9\n",
    "print(\"Uppercase string: \",str.upper())\n",
    "\n",
    "#10\n",
    "print(\"Lowercase string: \",str.lower())\n",
    "\n",
    "#11\n",
    "str1 = \"World\"\n",
    "print(\"Joined string: \",str.join(str1))\n",
    "\n",
    "#12\n",
    "print(\"No. of occurances of l :\",str.count('l'))\n",
    "\n",
    "#13\n",
    "print(\"Replaced string: \",str.replace('l','z'))\n",
    "\n",
    "#14\n",
    "print(\"Title case: \",str.title())\n",
    "\n",
    "#15\n",
    "print(\"Z-fill : \",str.zfill(10))"
   ]
  },
  {
   "cell_type": "raw",
   "metadata": {},
   "source": [
    "Question 3:\n",
    "Write a Python program to check if the given string is a Palindrome or Anagram or None of them.\n",
    "Display the message accordingly to the user."
   ]
  },
  {
   "cell_type": "code",
   "execution_count": 4,
   "metadata": {},
   "outputs": [
    {
     "name": "stdout",
     "output_type": "stream",
     "text": [
      "Enter a String: \n",
      "aabaa\n",
      "String is palindrome\n"
     ]
    }
   ],
   "source": [
    "print(\"Enter a String: \")\n",
    "name = input()\n",
    "if name == name[::-1]:\n",
    "    print(\"String is palindrome\")\n",
    "else:\n",
    "    print(\"Not palindrome\")"
   ]
  },
  {
   "cell_type": "code",
   "execution_count": 5,
   "metadata": {},
   "outputs": [
    {
     "name": "stdout",
     "output_type": "stream",
     "text": [
      "Enter two Strings: \n",
      "listen\n",
      "silent\n",
      "Strings are Anagram\n"
     ]
    }
   ],
   "source": [
    "print(\"Enter two Strings: \")\n",
    "a = input()\n",
    "b = input()\n",
    "if sorted(a) == sorted(b):\n",
    "    print(\"Strings are Anagram\")\n",
    "else:\n",
    "    print(\"Not Anagram\")"
   ]
  },
  {
   "cell_type": "raw",
   "metadata": {},
   "source": [
    "Question 4:\n",
    "Write a Python's user defined function that removes all the additional characters from the string\n",
    "and converts it finally to lower case using built-in lower(). eg: If the string is \"Dr. Darshan Ingle\n",
    "@AI-ML Trainer\", then the output be \"drdarshaningle aimltrainer\"."
   ]
  },
  {
   "cell_type": "code",
   "execution_count": 6,
   "metadata": {},
   "outputs": [
    {
     "name": "stdout",
     "output_type": "stream",
     "text": [
      "Original String : Dr. Darshan Ingle@AI-ML Trainer\n",
      "Resultant list is :  drdarshaningleaimltrainer\n"
     ]
    }
   ],
   "source": [
    "bad_chars = [';', ':', '!', \"*\", \"@\", \".\", \"-\", \" \"] \n",
    "  \n",
    "# initializing test string  \n",
    "test_string = \"Dr. Darshan Ingle@AI-ML Trainer\"\n",
    "  \n",
    "# printing original string  \n",
    "print (\"Original String : \" + test_string) \n",
    "  \n",
    "# using replace() to  \n",
    "# remove bad_chars  \n",
    "for i in bad_chars : \n",
    "    test_string = test_string.replace(i, '') \n",
    "  \n",
    "# printing resultant string  \n",
    "print (\"Resultant list is : \" , test_string.lower())"
   ]
  }
 ],
 "metadata": {
  "kernelspec": {
   "display_name": "Python 3",
   "language": "python",
   "name": "python3"
  },
  "language_info": {
   "codemirror_mode": {
    "name": "ipython",
    "version": 3
   },
   "file_extension": ".py",
   "mimetype": "text/x-python",
   "name": "python",
   "nbconvert_exporter": "python",
   "pygments_lexer": "ipython3",
   "version": "3.8.3"
  }
 },
 "nbformat": 4,
 "nbformat_minor": 4
}
